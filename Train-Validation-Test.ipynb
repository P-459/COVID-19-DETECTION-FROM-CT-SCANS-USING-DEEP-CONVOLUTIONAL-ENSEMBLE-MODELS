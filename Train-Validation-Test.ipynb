{
 "cells": [
  {
   "cell_type": "code",
   "execution_count": 2,
   "id": "72504110-8859-4584-8bac-cc2bde22844e",
   "metadata": {},
   "outputs": [],
   "source": [
    "import os\n",
    "import shutil"
   ]
  },
  {
   "cell_type": "code",
   "execution_count": 3,
   "id": "44dc5439-2c04-4c6f-ba62-b2ea1e464912",
   "metadata": {},
   "outputs": [],
   "source": [
    "original_folder = r\"C:\\Users\\hp\\Documents\\Data\\archive\\Original\"\n",
    "train_folder = r\"C:\\Users\\hp\\Documents\\Data\\archive\\train\"\n",
    "validation_folder = r\"C:\\Users\\hp\\Documents\\Data\\archive\\validation\"\n",
    "test_folder = r\"C:\\Users\\hp\\Documents\\Data\\archive\\test\"\n"
   ]
  },
  {
   "cell_type": "code",
   "execution_count": null,
   "id": "8a48ceea-7614-40d0-8745-b5f2f90ff91f",
   "metadata": {},
   "outputs": [],
   "source": [
    "# File Exists : Don't run!\n",
    "os.makedirs(train_folder)\n",
    "os.makedirs(validation_folder)\n",
    "os.makedirs(test_folder)"
   ]
  },
  {
   "cell_type": "code",
   "execution_count": 4,
   "id": "59ec1307-e074-4d0a-9745-e405927bfb33",
   "metadata": {},
   "outputs": [],
   "source": [
    "\n",
    "filenames = [f\"Covid ({i}).png\" for i in range(1,876)]\n",
    "\n",
    "for filename in filenames:\n",
    "    src_path = os.path.join(original_folder, filename)\n",
    "    dst_path = os.path.join(train_folder, filename)\n",
    "    shutil.copy(src_path, dst_path)"
   ]
  },
  {
   "cell_type": "code",
   "execution_count": 5,
   "id": "8330302c-f70b-4f57-a4b6-e9c92a0c7ecf",
   "metadata": {},
   "outputs": [],
   "source": [
    "\n",
    "filenames = [f\"Non-Covid ({i}).png\" for i in range(1,863)]\n",
    "\n",
    "for filename in filenames:\n",
    "    src_path = os.path.join(original_folder, filename)\n",
    "    dst_path = os.path.join(train_folder, filename)\n",
    "    shutil.copy(src_path, dst_path)\n",
    "    "
   ]
  },
  {
   "cell_type": "code",
   "execution_count": 33,
   "id": "318999ee-34cd-4d45-80a8-9de96d9c9ee3",
   "metadata": {},
   "outputs": [],
   "source": [
    "\n",
    "filenames = [f\"Covid ({i}).png\" for i in range(876,1064)]\n",
    "\n",
    "for filename in filenames:\n",
    "    src_path = os.path.join(original_folder, filename)\n",
    "    dst_path = os.path.join(validation_folder, filename)\n",
    "    shutil.copy(src_path, dst_path)"
   ]
  },
  {
   "cell_type": "code",
   "execution_count": 34,
   "id": "82173889-641e-4dc3-88d5-7756318e729e",
   "metadata": {},
   "outputs": [],
   "source": [
    "\n",
    "filenames = [f\"Non-Covid ({i}).png\" for i in range(863,1047)]\n",
    "\n",
    "for filename in filenames:\n",
    "    src_path = os.path.join(original_folder, filename)\n",
    "    dst_path = os.path.join(validation_folder, filename)\n",
    "    shutil.copy(src_path, dst_path)"
   ]
  },
  {
   "cell_type": "code",
   "execution_count": 35,
   "id": "8f0a52b1-982b-40e1-81b7-d2c539094ab2",
   "metadata": {},
   "outputs": [],
   "source": [
    "\n",
    "filenames = [f\"Covid ({i}).png\" for i in range(1064,1253)]\n",
    "\n",
    "for filename in filenames:\n",
    "    src_path = os.path.join(original_folder, filename)\n",
    "    dst_path = os.path.join(test_folder, filename)\n",
    "    shutil.copy(src_path, dst_path)"
   ]
  },
  {
   "cell_type": "code",
   "execution_count": 36,
   "id": "873edc61-5b19-4525-b9b3-2efb0db6a9e8",
   "metadata": {},
   "outputs": [],
   "source": [
    "\n",
    "filenames = [f\"Non-Covid ({i}).png\" for i in range(1047,1231)]\n",
    "\n",
    "for filename in filenames:\n",
    "    src_path = os.path.join(original_folder, filename)\n",
    "    dst_path = os.path.join(test_folder, filename)\n",
    "    shutil.copy(src_path, dst_path)"
   ]
  },
  {
   "cell_type": "code",
   "execution_count": null,
   "id": "6e1f81c5-2c69-4d5e-9f45-812fff9a5d30",
   "metadata": {},
   "outputs": [],
   "source": []
  }
 ],
 "metadata": {
  "kernelspec": {
   "display_name": "Python [conda env:base] *",
   "language": "python",
   "name": "conda-base-py"
  },
  "language_info": {
   "codemirror_mode": {
    "name": "ipython",
    "version": 3
   },
   "file_extension": ".py",
   "mimetype": "text/x-python",
   "name": "python",
   "nbconvert_exporter": "python",
   "pygments_lexer": "ipython3",
   "version": "3.12.7"
  }
 },
 "nbformat": 4,
 "nbformat_minor": 5
}
