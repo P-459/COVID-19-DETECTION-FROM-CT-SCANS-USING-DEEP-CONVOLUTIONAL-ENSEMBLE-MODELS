{
 "cells": [
  {
   "cell_type": "code",
   "execution_count": 3,
   "id": "9b76cac4-ace1-47ce-8e2d-ae1043b51505",
   "metadata": {},
   "outputs": [
    {
     "name": "stdout",
     "output_type": "stream",
     "text": [
      "Name: tensorflow\n",
      "Version: 2.19.0\n",
      "Summary: TensorFlow is an open source machine learning framework for everyone.\n",
      "Home-page: https://www.tensorflow.org/\n",
      "Author: Google Inc.\n",
      "Author-email: packages@tensorflow.org\n",
      "License: Apache 2.0\n",
      "Location: C:\\Users\\hp\\anaconda3\\Lib\\site-packages\n",
      "Requires: absl-py, astunparse, flatbuffers, gast, google-pasta, grpcio, h5py, keras, libclang, ml-dtypes, numpy, opt-einsum, packaging, protobuf, requests, setuptools, six, tensorboard, termcolor, typing-extensions, wrapt\n",
      "Required-by: \n",
      "Note: you may need to restart the kernel to use updated packages.\n"
     ]
    }
   ],
   "source": [
    "pip show tensorflow"
   ]
  },
  {
   "cell_type": "code",
   "execution_count": 4,
   "id": "dd904f96-437e-45ed-9bdd-33e07186ec63",
   "metadata": {},
   "outputs": [],
   "source": [
    "# System and Data\n",
    "import os\n",
    "import numpy as np\n",
    "import matplotlib.pyplot as plt\n",
    "\n",
    "# TensorFlow and Keras\n",
    "import tensorflow as tf\n",
    "from tensorflow.keras.preprocessing.image import ImageDataGenerator\n",
    "from tensorflow.keras.applications import Xception, VGG16, ResNet50\n",
    "from tensorflow.keras.layers import GlobalAveragePooling2D, Dense, Dropout\n",
    "from tensorflow.keras.models import Model\n",
    "from tensorflow.keras.optimizers import Adam\n",
    "from tensorflow.keras.callbacks import EarlyStopping\n",
    "\n",
    "# Sklearn\n",
    "from sklearn.metrics import classification_report, confusion_matrix\n"
   ]
  },
  {
   "cell_type": "code",
   "execution_count": 5,
   "id": "785ea657-cecb-4e34-8e11-501d266306eb",
   "metadata": {},
   "outputs": [],
   "source": [
    "DATASET_PATH = r'C:\\Users\\hp\\Documents\\Data\\Original'  # Change this if your folder has a different name\n",
    "IMAGE_SIZE = (224, 224)\n",
    "BATCH_SIZE = 32\n",
    "EPOCHS = 15\n"
   ]
  },
  {
   "cell_type": "code",
   "execution_count": 6,
   "id": "d0059ee7-258c-4e96-8416-761101cb21c2",
   "metadata": {},
   "outputs": [
    {
     "name": "stdout",
     "output_type": "stream",
     "text": [
      "Found 10918 images belonging to 5 classes.\n",
      "Found 2727 images belonging to 5 classes.\n"
     ]
    }
   ],
   "source": [
    "DATASET_PATH = r\"C:\\Users\\hp\\Documents\\Data\\archive\"\n",
    "train_datagen = ImageDataGenerator(\n",
    "    rescale=1./255,\n",
    "    rotation_range=25,\n",
    "    width_shift_range=0.1,\n",
    "    height_shift_range=0.1,\n",
    "    shear_range=0.1,\n",
    "    zoom_range=0.2,\n",
    "    horizontal_flip=True,\n",
    "    validation_split=0.2\n",
    ")\n",
    "\n",
    "test_val_datagen = ImageDataGenerator(rescale=1./255)\n",
    "\n",
    "train_generator = train_datagen.flow_from_directory(\n",
    "    DATASET_PATH,\n",
    "    target_size=IMAGE_SIZE,\n",
    "    batch_size=BATCH_SIZE,\n",
    "    class_mode='categorical',\n",
    "    subset='training'\n",
    ")\n",
    "\n",
    "val_generator = train_datagen.flow_from_directory(\n",
    "    DATASET_PATH,\n",
    "    target_size=IMAGE_SIZE,\n",
    "    batch_size=BATCH_SIZE,\n",
    "    class_mode='categorical',\n",
    "    subset='validation'\n",
    ")\n",
    "\n",
    "# Optional: use a separate test folder\n",
    "# test_generator = test_val_datagen.flow_from_directory(\n",
    "#     'test_dataset/',\n",
    "#     target_size=IMAGE_SIZE,\n",
    "#     batch_size=BATCH_SIZE,\n",
    "#     class_mode='categorical',\n",
    "#     shuffle=False\n",
    "# )\n"
   ]
  },
  {
   "cell_type": "code",
   "execution_count": 7,
   "id": "eb259aff-4247-4df5-bee8-6fa305e894a4",
   "metadata": {},
   "outputs": [],
   "source": [
    "def build_model(base_model_class, input_shape=(224, 224, 3), n_classes=3):\n",
    "    base_model = base_model_class(include_top=False, weights='imagenet', input_shape=input_shape)\n",
    "    base_model.trainable = False  # Freeze all layers\n",
    "\n",
    "    x = GlobalAveragePooling2D()(base_model.output)\n",
    "    x = Dropout(0.5)(x)\n",
    "    x = Dense(256, activation='relu')(x)\n",
    "    output = Dense(n_classes, activation='sigmoid')(x)\n",
    "\n",
    "    model = Model(inputs=base_model.input, outputs=output)\n",
    "    return model\n"
   ]
  },
  {
   "cell_type": "code",
   "execution_count": 8,
   "id": "f5ec6c4a-f296-4768-bb61-5caa7971f57c",
   "metadata": {},
   "outputs": [],
   "source": [
    "n_classes = train_generator.num_classes\n",
    "\n",
    "model_xcep = build_model(Xception, n_classes=n_classes)\n",
    "model_vgg = build_model(VGG16, n_classes=n_classes)\n",
    "model_resnet = build_model(ResNet50, n_classes=n_classes)\n"
   ]
  },
  {
   "cell_type": "code",
   "execution_count": null,
   "id": "9ac243ad-4347-427a-91ae-8d1c03cb8cee",
   "metadata": {},
   "outputs": [
    {
     "name": "stdout",
     "output_type": "stream",
     "text": [
      "\n",
      "Training Xception...\n"
     ]
    },
    {
     "name": "stderr",
     "output_type": "stream",
     "text": [
      "C:\\Users\\hp\\anaconda3\\Lib\\site-packages\\keras\\src\\trainers\\data_adapters\\py_dataset_adapter.py:121: UserWarning: Your `PyDataset` class should call `super().__init__(**kwargs)` in its constructor. `**kwargs` can include `workers`, `use_multiprocessing`, `max_queue_size`. Do not pass these arguments to `fit()`, as they will be ignored.\n",
      "  self._warn_if_super_not_called()\n"
     ]
    },
    {
     "name": "stdout",
     "output_type": "stream",
     "text": [
      "Epoch 1/15\n",
      "\u001b[1m342/342\u001b[0m \u001b[32m━━━━━━━━━━━━━━━━━━━━\u001b[0m\u001b[37m\u001b[0m \u001b[1m769s\u001b[0m 2s/step - accuracy: 0.6499 - loss: 0.9170 - val_accuracy: 0.7290 - val_loss: 0.7320\n",
      "Epoch 2/15\n",
      "\u001b[1m342/342\u001b[0m \u001b[32m━━━━━━━━━━━━━━━━━━━━\u001b[0m\u001b[37m\u001b[0m \u001b[1m735s\u001b[0m 2s/step - accuracy: 0.7309 - loss: 0.6670 - val_accuracy: 0.7107 - val_loss: 0.7189\n",
      "Epoch 3/15\n",
      "\u001b[1m342/342\u001b[0m \u001b[32m━━━━━━━━━━━━━━━━━━━━\u001b[0m\u001b[37m\u001b[0m \u001b[1m798s\u001b[0m 2s/step - accuracy: 0.7326 - loss: 0.6584 - val_accuracy: 0.7382 - val_loss: 0.6471\n",
      "Epoch 4/15\n",
      "\u001b[1m342/342\u001b[0m \u001b[32m━━━━━━━━━━━━━━━━━━━━\u001b[0m\u001b[37m\u001b[0m \u001b[1m799s\u001b[0m 2s/step - accuracy: 0.7421 - loss: 0.6302 - val_accuracy: 0.7583 - val_loss: 0.5990\n",
      "Epoch 5/15\n",
      "\u001b[1m342/342\u001b[0m \u001b[32m━━━━━━━━━━━━━━━━━━━━\u001b[0m\u001b[37m\u001b[0m \u001b[1m758s\u001b[0m 2s/step - accuracy: 0.7513 - loss: 0.6196 - val_accuracy: 0.7440 - val_loss: 0.6595\n",
      "Epoch 6/15\n",
      "\u001b[1m342/342\u001b[0m \u001b[32m━━━━━━━━━━━━━━━━━━━━\u001b[0m\u001b[37m\u001b[0m \u001b[1m728s\u001b[0m 2s/step - accuracy: 0.7586 - loss: 0.5896 - val_accuracy: 0.7587 - val_loss: 0.6039\n",
      "Epoch 7/15\n",
      "\u001b[1m342/342\u001b[0m \u001b[32m━━━━━━━━━━━━━━━━━━━━\u001b[0m\u001b[37m\u001b[0m \u001b[1m746s\u001b[0m 2s/step - accuracy: 0.7510 - loss: 0.5905 - val_accuracy: 0.7554 - val_loss: 0.5688\n",
      "Epoch 8/15\n",
      "\u001b[1m342/342\u001b[0m \u001b[32m━━━━━━━━━━━━━━━━━━━━\u001b[0m\u001b[37m\u001b[0m \u001b[1m734s\u001b[0m 2s/step - accuracy: 0.7541 - loss: 0.5944 - val_accuracy: 0.7462 - val_loss: 0.6223\n",
      "Epoch 9/15\n",
      "\u001b[1m342/342\u001b[0m \u001b[32m━━━━━━━━━━━━━━━━━━━━\u001b[0m\u001b[37m\u001b[0m \u001b[1m1033s\u001b[0m 3s/step - accuracy: 0.7419 - loss: 0.6108 - val_accuracy: 0.7378 - val_loss: 0.5849\n",
      "Epoch 10/15\n",
      "\u001b[1m342/342\u001b[0m \u001b[32m━━━━━━━━━━━━━━━━━━━━\u001b[0m\u001b[37m\u001b[0m \u001b[1m1307s\u001b[0m 4s/step - accuracy: 0.7548 - loss: 0.5886 - val_accuracy: 0.7613 - val_loss: 0.6085\n",
      "\n",
      "Training VGG16...\n",
      "Epoch 1/15\n",
      "\u001b[1m155/342\u001b[0m \u001b[32m━━━━━━━━━\u001b[0m\u001b[37m━━━━━━━━━━━\u001b[0m \u001b[1m27:23\u001b[0m 9s/step - accuracy: 0.4939 - loss: 1.3281"
     ]
    }
   ],
   "source": [
    "models = [model_xcep, model_vgg, model_resnet]\n",
    "model_names = ['Xception', 'VGG16', 'ResNet50']\n",
    "\n",
    "for i, model in enumerate(models):\n",
    "    print(f\"\\nTraining {model_names[i]}...\")\n",
    "    model.compile(\n",
    "        optimizer=Adam(learning_rate=1e-4),\n",
    "        loss='categorical_crossentropy',\n",
    "        metrics=['accuracy']\n",
    "    )\n",
    "    if train_generator.samples > 0 and val_generator.samples > 0:\n",
    "         model.fit(\n",
    "             train_generator,\n",
    "             epochs=EPOCHS,\n",
    "             validation_data=val_generator,\n",
    "             callbacks=[EarlyStopping(patience=3, restore_best_weights=True)]\n",
    "    )\n",
    "    else: print(f\"Cannot train {model_names[i]} - no data available\")\n",
    "\n"
   ]
  },
  {
   "cell_type": "code",
   "execution_count": 1,
   "id": "86f18b26-bb05-440c-8648-c4bced0aa8cc",
   "metadata": {},
   "outputs": [
    {
     "name": "stdout",
     "output_type": "stream",
     "text": [
      "Found 13645 images belonging to 5 classes.\n",
      "Number of batches in generator: 427\n"
     ]
    },
    {
     "name": "stderr",
     "output_type": "stream",
     "text": [
      "\n",
      "KeyboardInterrupt\n",
      "\n"
     ]
    }
   ],
   "source": [
    "from tensorflow.keras.preprocessing.image import ImageDataGenerator\n",
    "\n",
    "# First, define the data_generator\n",
    "data_generator = ImageDataGenerator(\n",
    "    rescale=1./255,\n",
    "    # You can add other augmentation parameters as needed\n",
    "    # rotation_range=20,\n",
    "    # width_shift_range=0.2,\n",
    "    # height_shift_range=0.2,\n",
    "    # shear_range=0.2,\n",
    "    # zoom_range=0.2,\n",
    "    # horizontal_flip=True,\n",
    ")\n",
    "\n",
    "# Create the validation generator first - this was missing in the original code\n",
    "val_generator = data_generator.flow_from_directory(\n",
    "    r'C:\\Users\\hp\\Documents\\Data\\archive',\n",
    "    target_size=(224, 224),\n",
    "    batch_size=32,\n",
    "    class_mode='categorical'\n",
    ")\n",
    "\n",
    "def get_predictions(model, generator):\n",
    "    # Make sure the generator has data\n",
    "    if len(generator) == 0:\n",
    "        raise ValueError(\"Generator has no data\")\n",
    "    \n",
    "    # Reset the generator before making predictions\n",
    "    generator.reset()\n",
    "    return model.predict(generator, verbose=1)\n",
    "\n",
    "# Check if your generator has data\n",
    "print(f\"Number of batches in generator: {len(val_generator)}\")\n",
    "\n",
    "# Make sure your generator is properly configured\n",
    "# You might need to create a new generator if the current one is empty\n",
    "if len(val_generator) == 0:\n",
    "    # Example of creating a new generator (adjust parameters as needed)\n",
    "    val_generator = data_generator.flow_from_directory(\n",
    "        r'C:\\Users\\hp\\Documents\\Data\\archive',\n",
    "        target_size=(224, 224),\n",
    "        batch_size=32,\n",
    "        class_mode='categorical'\n",
    "    )\n",
    "\n",
    "# Now use the generator for predictions\n",
    "test_data = val_generator\n",
    "preds_xcep = get_predictions(model_xcep, test_data)\n",
    "preds_vgg = get_predictions(model_vgg, test_data)\n",
    "preds_resnet = get_predictions(model_resnet, test_data)"
   ]
  },
  {
   "cell_type": "code",
   "execution_count": null,
   "id": "07b8ed99-bc93-43cc-9693-4389b4c9a524",
   "metadata": {},
   "outputs": [],
   "source": [
    "ensemble_preds = (preds_xcep + preds_vgg + preds_resnet) / 3\n",
    "y_pred = np.argmax(ensemble_preds, axis=1)\n",
    "y_true = test_data.classes"
   ]
  },
  {
   "cell_type": "code",
   "execution_count": null,
   "id": "f1850bc0-412d-4ff9-85e2-ed3e3d4f37d9",
   "metadata": {},
   "outputs": [],
   "source": [
    "print(\"Classification Report:\")\n",
    "print(classification_report(y_true, y_pred, target_names=list(test_data.class_indices.keys())))\n",
    "\n",
    "cm = confusion_matrix(y_true, y_pred)\n",
    "print(\"Confusion Matrix:\")\n",
    "print(cm)"
   ]
  },
  {
   "cell_type": "code",
   "execution_count": null,
   "id": "be3053ae-dbd2-46a7-b816-42c3241ac1a4",
   "metadata": {},
   "outputs": [],
   "source": [
    "for model in models:\n",
    "    for layer in model.layers[-20:]:\n",
    "        if not isinstance(layer, tf.keras.layers.BatchNormalization):\n",
    "            layer.trainable = True\n",
    "\n",
    "    model.compile(optimizer=Adam(learning_rate=1e-5),\n",
    "                  loss='categorical_crossentropy',\n",
    "                  metrics=['accuracy'])\n",
    "\n",
    "    model.fit(train_generator, epochs=5, validation_data=val_generator)"
   ]
  },
  {
   "cell_type": "code",
   "execution_count": null,
   "id": "ebdeed66-bee4-4bf3-89c3-5a58a53e722d",
   "metadata": {},
   "outputs": [],
   "source": [
    "def plot_history(history, model_name):\n",
    "    acc = history.history['accuracy']\n",
    "    val_acc = history.history['val_accuracy']\n",
    "    loss = history.history['loss']\n",
    "    val_loss = history.history['val_loss']\n",
    "    epochs_range = range(len(acc))\n",
    "\n",
    "    plt.figure(figsize=(14, 5))\n",
    "\n",
    "    plt.subplot(1, 2, 1)\n",
    "    plt.plot(epochs_range, acc, label='Training Accuracy')\n",
    "    plt.plot(epochs_range, val_acc, label='Validation Accuracy')\n",
    "    plt.title(f'{model_name} - Accuracy')\n",
    "    plt.legend()\n",
    "\n",
    "    plt.subplot(1, 2, 2)\n",
    "    plt.plot(epochs_range, loss, label='Training Loss')\n",
    "    plt.plot(epochs_range, val_loss, label='Validation Loss')\n",
    "    plt.title(f'{model_name} - Loss')\n",
    "    plt.legend()\n",
    "\n",
    "    plt.show()\n",
    "\n",
    "for i in range(3):\n",
    "    plot_history(histories[i], model_names[i])\n"
   ]
  },
  {
   "cell_type": "code",
   "execution_count": null,
   "id": "889dd325-4e5e-46df-b6e2-8ca18b7b8dcf",
   "metadata": {},
   "outputs": [],
   "source": []
  }
 ],
 "metadata": {
  "kernelspec": {
   "display_name": "Python [conda env:base] *",
   "language": "python",
   "name": "conda-base-py"
  },
  "language_info": {
   "codemirror_mode": {
    "name": "ipython",
    "version": 3
   },
   "file_extension": ".py",
   "mimetype": "text/x-python",
   "name": "python",
   "nbconvert_exporter": "python",
   "pygments_lexer": "ipython3",
   "version": "3.12.7"
  }
 },
 "nbformat": 4,
 "nbformat_minor": 5
}
