{
 "cells": [
  {
   "cell_type": "code",
   "execution_count": null,
   "id": "b07478e1-a6bc-4574-aac3-97b05f9b1958",
   "metadata": {},
   "outputs": [
    {
     "name": "stdout",
     "output_type": "stream",
     "text": [
      "Found 8681 images belonging to 2 classes.\n",
      "Found 372 images belonging to 2 classes.\n"
     ]
    },
    {
     "name": "stderr",
     "output_type": "stream",
     "text": [
      "C:\\Users\\hp\\anaconda3\\Lib\\site-packages\\keras\\src\\trainers\\data_adapters\\py_dataset_adapter.py:121: UserWarning: Your `PyDataset` class should call `super().__init__(**kwargs)` in its constructor. `**kwargs` can include `workers`, `use_multiprocessing`, `max_queue_size`. Do not pass these arguments to `fit()`, as they will be ignored.\n",
      "  self._warn_if_super_not_called()\n"
     ]
    },
    {
     "name": "stdout",
     "output_type": "stream",
     "text": [
      "Epoch 1/10\n",
      "\u001b[1m272/272\u001b[0m \u001b[32m━━━━━━━━━━━━━━━━━━━━\u001b[0m\u001b[37m\u001b[0m \u001b[1m986s\u001b[0m 4s/step - accuracy: 0.5147 - loss: 0.7712 - val_accuracy: 0.7769 - val_loss: 0.5927\n",
      "Epoch 2/10\n",
      "\u001b[1m272/272\u001b[0m \u001b[32m━━━━━━━━━━━━━━━━━━━━\u001b[0m\u001b[37m\u001b[0m \u001b[1m1217s\u001b[0m 4s/step - accuracy: 0.6443 - loss: 0.6293 - val_accuracy: 0.7930 - val_loss: 0.5154\n",
      "Epoch 3/10\n",
      "\u001b[1m 56/272\u001b[0m \u001b[32m━━━━\u001b[0m\u001b[37m━━━━━━━━━━━━━━━━\u001b[0m \u001b[1m14:04\u001b[0m 4s/step - accuracy: 0.6761 - loss: 0.6031"
     ]
    }
   ],
   "source": [
    "import tensorflow as tf\n",
    "from tensorflow.keras.preprocessing.image import ImageDataGenerator\n",
    "from tensorflow.keras.applications import VGG16\n",
    "from tensorflow.keras.models import Model\n",
    "from tensorflow.keras.layers import GlobalAveragePooling2D, Dense, Dropout\n",
    "from tensorflow.keras.optimizers import Adam\n",
    "\n",
    "# Parameters\n",
    "IMG_SIZE = (224, 224)\n",
    "BATCH_SIZE = 32\n",
    "INPUT_SHAPE = (224, 224, 3)\n",
    "EPOCHS = 10\n",
    "\n",
    "# Load datasets\n",
    "datagen = ImageDataGenerator(rescale=1./255)\n",
    "train_ds = datagen.flow_from_directory(r\"C:\\Users\\hp\\Documents\\Data\\archive\\augmented data\", target_size=IMG_SIZE, batch_size=BATCH_SIZE, class_mode=\"categorical\")\n",
    "val_ds = datagen.flow_from_directory(r\"C:\\Users\\hp\\Documents\\Data\\archive\\validation\", target_size=IMG_SIZE, batch_size=BATCH_SIZE, class_mode=\"categorical\")\n",
    "\n",
    "# Build model\n",
    "base = VGG16(include_top=False, weights=\"imagenet\", input_shape=INPUT_SHAPE)\n",
    "base.trainable = False\n",
    "\n",
    "x = GlobalAveragePooling2D()(base.output)\n",
    "x = Dropout(0.3)(x)\n",
    "x = Dense(128, activation=\"relu\")(x)\n",
    "x = Dropout(0.3)(x)\n",
    "out = Dense(2, activation=\"softmax\")(x)\n",
    "\n",
    "model = Model(inputs=base.input, outputs=out)\n",
    "model.compile(optimizer=Adam(learning_rate=1e-4), loss=\"categorical_crossentropy\", metrics=[\"accuracy\"])\n",
    "\n",
    "# Train\n",
    "model.fit(train_ds, validation_data=val_ds, epochs=EPOCHS)\n",
    "\n",
    "# Save\n",
    "model.save(\"vgg_model.h5\")"
   ]
  },
  {
   "cell_type": "code",
   "execution_count": null,
   "id": "31fc34ac-cbea-4c86-b6f8-3cc97d7b4841",
   "metadata": {},
   "outputs": [],
   "source": []
  }
 ],
 "metadata": {
  "kernelspec": {
   "display_name": "Python [conda env:base] *",
   "language": "python",
   "name": "conda-base-py"
  },
  "language_info": {
   "codemirror_mode": {
    "name": "ipython",
    "version": 3
   },
   "file_extension": ".py",
   "mimetype": "text/x-python",
   "name": "python",
   "nbconvert_exporter": "python",
   "pygments_lexer": "ipython3",
   "version": "3.12.7"
  }
 },
 "nbformat": 4,
 "nbformat_minor": 5
}
