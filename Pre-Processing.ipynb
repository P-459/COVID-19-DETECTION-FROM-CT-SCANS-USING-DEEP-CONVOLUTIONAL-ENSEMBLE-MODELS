{
 "cells": [
  {
   "cell_type": "code",
   "execution_count": 4,
   "id": "ec771fbc-034f-4db3-a91d-e6d60d4e04ab",
   "metadata": {},
   "outputs": [
    {
     "name": "stdout",
     "output_type": "stream",
     "text": [
      "Found 8681 images belonging to 2 classes.\n",
      "Found 372 images belonging to 2 classes.\n",
      "Found 373 images belonging to 2 classes.\n"
     ]
    }
   ],
   "source": [
    "#Load all sets (No Augmentation)\n",
    "from tensorflow.keras.preprocessing.image import ImageDataGenerator\n",
    "\n",
    "IMG_SIZE = (224, 224)\n",
    "BATCH_SIZE = 32\n",
    "\n",
    "datagen = ImageDataGenerator(rescale=1./255)  # Only rescaling\n",
    "\n",
    "train_gen = datagen.flow_from_directory(\n",
    "    r\"C:\\Users\\hp\\Documents\\Data\\archive\\augmented data\",\n",
    "    target_size=IMG_SIZE,\n",
    "    batch_size=BATCH_SIZE,\n",
    "    class_mode='categorical',\n",
    "    shuffle=False\n",
    ")\n",
    "\n",
    "val_gen = datagen.flow_from_directory(\n",
    "    r\"C:\\Users\\hp\\Documents\\Data\\archive\\validation\",\n",
    "    target_size=IMG_SIZE,\n",
    "    batch_size=BATCH_SIZE,\n",
    "    class_mode='categorical',\n",
    "    shuffle=False\n",
    ")\n",
    "\n",
    "test_gen = datagen.flow_from_directory(\n",
    "    r\"C:\\Users\\hp\\Documents\\Data\\archive\\test\",\n",
    "    target_size=IMG_SIZE,\n",
    "    batch_size=BATCH_SIZE,\n",
    "    class_mode='categorical',\n",
    "    shuffle=False\n",
    ")\n"
   ]
  },
  {
   "cell_type": "code",
   "execution_count": 5,
   "id": "f5201231-b948-422e-831a-52c20a34c47a",
   "metadata": {},
   "outputs": [],
   "source": [
    "# Convert Numpy to Arrays\n",
    "\n",
    "import numpy as np\n",
    "\n",
    "def generator_to_numpy(generator):\n",
    "    X, y = [], []\n",
    "    for i in range(len(generator)):\n",
    "        batch_x, batch_y = generator[i]\n",
    "        X.append(batch_x)\n",
    "        y.append(batch_y)\n",
    "    return np.vstack(X), np.vstack(y)\n",
    "\n",
    "X_train, y_train = generator_to_numpy(train_gen)\n",
    "X_val, y_val = generator_to_numpy(val_gen)\n",
    "X_test, y_test = generator_to_numpy(test_gen)\n"
   ]
  },
  {
   "cell_type": "code",
   "execution_count": 6,
   "id": "c1d4f69a-966d-463d-b4dd-206fa271a4be",
   "metadata": {},
   "outputs": [],
   "source": [
    "# Compute Mean and Std from Augmented Training Data\n",
    "\n",
    "mean = np.mean(X_train, axis=(0, 1, 2))  # Per-channel mean\n",
    "std = np.std(X_train, axis=(0, 1, 2))    # Per-channel std\n"
   ]
  },
  {
   "cell_type": "code",
   "execution_count": 7,
   "id": "139c3bad-bdb3-4543-add8-05b5428914ff",
   "metadata": {},
   "outputs": [],
   "source": [
    "# Normalize All Sets Using Train Stats\n",
    "\n",
    "X_train_norm = (X_train - mean) / std\n",
    "X_val_norm   = (X_val - mean) / std\n",
    "X_test_norm  = (X_test - mean) / std"
   ]
  },
  {
   "cell_type": "code",
   "execution_count": null,
   "id": "f8ce13d5-0734-475a-a9af-61225cd1ebf4",
   "metadata": {},
   "outputs": [],
   "source": []
  }
 ],
 "metadata": {
  "kernelspec": {
   "display_name": "Python [conda env:base] *",
   "language": "python",
   "name": "conda-base-py"
  },
  "language_info": {
   "codemirror_mode": {
    "name": "ipython",
    "version": 3
   },
   "file_extension": ".py",
   "mimetype": "text/x-python",
   "name": "python",
   "nbconvert_exporter": "python",
   "pygments_lexer": "ipython3",
   "version": "3.12.7"
  }
 },
 "nbformat": 4,
 "nbformat_minor": 5
}
