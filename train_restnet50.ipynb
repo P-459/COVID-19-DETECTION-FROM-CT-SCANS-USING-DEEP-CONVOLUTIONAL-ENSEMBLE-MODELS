{
 "cells": [
  {
   "cell_type": "code",
   "execution_count": 1,
   "id": "680ae40a-4dc8-46fb-8a36-858daaad9f78",
   "metadata": {},
   "outputs": [
    {
     "name": "stdout",
     "output_type": "stream",
     "text": [
      "Found 8681 images belonging to 2 classes.\n",
      "Found 372 images belonging to 2 classes.\n"
     ]
    },
    {
     "name": "stderr",
     "output_type": "stream",
     "text": [
      "C:\\Users\\hp\\anaconda3\\Lib\\site-packages\\keras\\src\\trainers\\data_adapters\\py_dataset_adapter.py:121: UserWarning: Your `PyDataset` class should call `super().__init__(**kwargs)` in its constructor. `**kwargs` can include `workers`, `use_multiprocessing`, `max_queue_size`. Do not pass these arguments to `fit()`, as they will be ignored.\n",
      "  self._warn_if_super_not_called()\n"
     ]
    },
    {
     "name": "stdout",
     "output_type": "stream",
     "text": [
      "Epoch 1/10\n",
      "\u001b[1m272/272\u001b[0m \u001b[32m━━━━━━━━━━━━━━━━━━━━\u001b[0m\u001b[37m\u001b[0m \u001b[1m471s\u001b[0m 2s/step - accuracy: 0.5174 - loss: 0.8073 - val_accuracy: 0.5323 - val_loss: 0.6857\n",
      "Epoch 2/10\n",
      "\u001b[1m272/272\u001b[0m \u001b[32m━━━━━━━━━━━━━━━━━━━━\u001b[0m\u001b[37m\u001b[0m \u001b[1m893s\u001b[0m 3s/step - accuracy: 0.5382 - loss: 0.7117 - val_accuracy: 0.4946 - val_loss: 0.6829\n",
      "Epoch 3/10\n",
      "\u001b[1m272/272\u001b[0m \u001b[32m━━━━━━━━━━━━━━━━━━━━\u001b[0m\u001b[37m\u001b[0m \u001b[1m4492s\u001b[0m 17s/step - accuracy: 0.5392 - loss: 0.6981 - val_accuracy: 0.5269 - val_loss: 0.6767\n",
      "Epoch 4/10\n",
      "\u001b[1m272/272\u001b[0m \u001b[32m━━━━━━━━━━━━━━━━━━━━\u001b[0m\u001b[37m\u001b[0m \u001b[1m602s\u001b[0m 2s/step - accuracy: 0.5514 - loss: 0.6921 - val_accuracy: 0.5484 - val_loss: 0.6742\n",
      "Epoch 5/10\n",
      "\u001b[1m272/272\u001b[0m \u001b[32m━━━━━━━━━━━━━━━━━━━━\u001b[0m\u001b[37m\u001b[0m \u001b[1m619s\u001b[0m 2s/step - accuracy: 0.5666 - loss: 0.6785 - val_accuracy: 0.6801 - val_loss: 0.6617\n",
      "Epoch 6/10\n",
      "\u001b[1m272/272\u001b[0m \u001b[32m━━━━━━━━━━━━━━━━━━━━\u001b[0m\u001b[37m\u001b[0m \u001b[1m601s\u001b[0m 2s/step - accuracy: 0.5715 - loss: 0.6811 - val_accuracy: 0.7204 - val_loss: 0.6588\n",
      "Epoch 7/10\n",
      "\u001b[1m272/272\u001b[0m \u001b[32m━━━━━━━━━━━━━━━━━━━━\u001b[0m\u001b[37m\u001b[0m \u001b[1m601s\u001b[0m 2s/step - accuracy: 0.5660 - loss: 0.6809 - val_accuracy: 0.7392 - val_loss: 0.6517\n",
      "Epoch 8/10\n",
      "\u001b[1m272/272\u001b[0m \u001b[32m━━━━━━━━━━━━━━━━━━━━\u001b[0m\u001b[37m\u001b[0m \u001b[1m602s\u001b[0m 2s/step - accuracy: 0.5789 - loss: 0.6745 - val_accuracy: 0.7124 - val_loss: 0.6390\n",
      "Epoch 9/10\n",
      "\u001b[1m272/272\u001b[0m \u001b[32m━━━━━━━━━━━━━━━━━━━━\u001b[0m\u001b[37m\u001b[0m \u001b[1m601s\u001b[0m 2s/step - accuracy: 0.5799 - loss: 0.6720 - val_accuracy: 0.7500 - val_loss: 0.6298\n",
      "Epoch 10/10\n",
      "\u001b[1m272/272\u001b[0m \u001b[32m━━━━━━━━━━━━━━━━━━━━\u001b[0m\u001b[37m\u001b[0m \u001b[1m589s\u001b[0m 2s/step - accuracy: 0.6026 - loss: 0.6688 - val_accuracy: 0.6855 - val_loss: 0.6370\n"
     ]
    },
    {
     "name": "stderr",
     "output_type": "stream",
     "text": [
      "WARNING:absl:You are saving your model as an HDF5 file via `model.save()` or `keras.saving.save_model(model)`. This file format is considered legacy. We recommend using instead the native Keras format, e.g. `model.save('my_model.keras')` or `keras.saving.save_model(model, 'my_model.keras')`. \n"
     ]
    }
   ],
   "source": [
    "import tensorflow as tf\n",
    "from tensorflow.keras.preprocessing.image import ImageDataGenerator\n",
    "from tensorflow.keras.applications import ResNet50\n",
    "from tensorflow.keras.models import Model\n",
    "from tensorflow.keras.layers import GlobalAveragePooling2D, Dense, Dropout\n",
    "from tensorflow.keras.optimizers import Adam\n",
    "\n",
    "# Parameters\n",
    "IMG_SIZE = (224, 224)\n",
    "BATCH_SIZE = 32\n",
    "INPUT_SHAPE = (224, 224, 3)\n",
    "EPOCHS = 10\n",
    "\n",
    "# Load datasets\n",
    "datagen = ImageDataGenerator(rescale=1./255)\n",
    "train_ds = datagen.flow_from_directory(r\"C:\\Users\\hp\\Documents\\Data\\archive\\augmented data\", target_size=IMG_SIZE, batch_size=BATCH_SIZE, class_mode=\"categorical\")\n",
    "val_ds = datagen.flow_from_directory(r\"C:\\Users\\hp\\Documents\\Data\\archive\\validation\", target_size=IMG_SIZE, batch_size=BATCH_SIZE, class_mode=\"categorical\")\n",
    "\n",
    "# Build model\n",
    "base = ResNet50(include_top=False, weights=\"imagenet\", input_shape=INPUT_SHAPE)\n",
    "base.trainable = False\n",
    "\n",
    "x = GlobalAveragePooling2D()(base.output)\n",
    "x = Dropout(0.3)(x)\n",
    "x = Dense(128, activation=\"relu\")(x)\n",
    "x = Dropout(0.3)(x)\n",
    "out = Dense(2, activation=\"softmax\")(x)\n",
    "\n",
    "model = Model(inputs=base.input, outputs=out)\n",
    "model.compile(optimizer=Adam(learning_rate=1e-4), loss=\"categorical_crossentropy\", metrics=[\"accuracy\"])\n",
    "\n",
    "# Train\n",
    "model.fit(train_ds, validation_data=val_ds, epochs=EPOCHS)\n",
    "\n",
    "# Save\n",
    "model.save(\"resnet_model.h5\")\n"
   ]
  },
  {
   "cell_type": "code",
   "execution_count": null,
   "id": "e9975a7f-819c-4734-bd57-ec2c41bbea8b",
   "metadata": {},
   "outputs": [
    {
     "name": "stdout",
     "output_type": "stream",
     "text": [
      "Epoch 1/10\n",
      "\u001b[1m272/272\u001b[0m \u001b[32m━━━━━━━━━━━━━━━━━━━━\u001b[0m\u001b[37m\u001b[0m \u001b[1m414s\u001b[0m 2s/step - accuracy: 0.5890 - loss: 0.6692 - val_accuracy: 0.7688 - val_loss: 0.6226\n",
      "Epoch 2/10\n",
      "\u001b[1m272/272\u001b[0m \u001b[32m━━━━━━━━━━━━━━━━━━━━\u001b[0m\u001b[37m\u001b[0m \u001b[1m416s\u001b[0m 2s/step - accuracy: 0.6039 - loss: 0.6591 - val_accuracy: 0.5806 - val_loss: 0.6412\n",
      "Epoch 3/10\n",
      "\u001b[1m272/272\u001b[0m \u001b[32m━━━━━━━━━━━━━━━━━━━━\u001b[0m\u001b[37m\u001b[0m \u001b[1m430s\u001b[0m 2s/step - accuracy: 0.6059 - loss: 0.6601 - val_accuracy: 0.7796 - val_loss: 0.6085\n",
      "Epoch 4/10\n",
      "\u001b[1m 51/272\u001b[0m \u001b[32m━━━\u001b[0m\u001b[37m━━━━━━━━━━━━━━━━━\u001b[0m \u001b[1m5:37\u001b[0m 2s/step - accuracy: 0.6288 - loss: 0.6475"
     ]
    }
   ],
   "source": [
    "import matplotlib.pyplot as plt\n",
    "\n",
    "# Train the model and store the training history\n",
    "history = model.fit(train_ds, validation_data=val_ds, epochs=EPOCHS)\n",
    "\n",
    "# Plot training & validation accuracy and loss\n",
    "plt.figure(figsize=(14, 5))\n",
    "\n",
    "# Accuracy\n",
    "plt.subplot(1, 2, 1)\n",
    "plt.plot(history.history['accuracy'], label='Train Accuracy', marker='o')\n",
    "plt.plot(history.history['val_accuracy'], label='Validation Accuracy', marker='o')\n",
    "plt.title('Model Accuracy')\n",
    "plt.xlabel('Epoch')\n",
    "plt.ylabel('Accuracy')\n",
    "plt.legend(loc='lower right')\n",
    "plt.grid(True)\n",
    "\n",
    "# Loss\n",
    "plt.subplot(1, 2, 2)\n",
    "plt.plot(history.history['loss'], label='Train Loss', marker='o')\n",
    "plt.plot(history.history['val_loss'], label='Validation Loss', marker='o')\n",
    "plt.title('Model Loss')\n",
    "plt.xlabel('Epoch')\n",
    "plt.ylabel('Loss')\n",
    "plt.legend(loc='upper right')\n",
    "plt.grid(True)\n",
    "\n",
    "plt.tight_layout()\n",
    "plt.show()\n"
   ]
  },
  {
   "cell_type": "code",
   "execution_count": null,
   "id": "08918114-76fd-47a1-9a3c-b8276fa35cb4",
   "metadata": {},
   "outputs": [],
   "source": []
  },
  {
   "cell_type": "code",
   "execution_count": null,
   "id": "8ddab289-dd4e-4096-8c2f-4b97ca9031f3",
   "metadata": {},
   "outputs": [],
   "source": []
  }
 ],
 "metadata": {
  "kernelspec": {
   "display_name": "Python [conda env:base] *",
   "language": "python",
   "name": "conda-base-py"
  },
  "language_info": {
   "codemirror_mode": {
    "name": "ipython",
    "version": 3
   },
   "file_extension": ".py",
   "mimetype": "text/x-python",
   "name": "python",
   "nbconvert_exporter": "python",
   "pygments_lexer": "ipython3",
   "version": "3.12.7"
  }
 },
 "nbformat": 4,
 "nbformat_minor": 5
}
