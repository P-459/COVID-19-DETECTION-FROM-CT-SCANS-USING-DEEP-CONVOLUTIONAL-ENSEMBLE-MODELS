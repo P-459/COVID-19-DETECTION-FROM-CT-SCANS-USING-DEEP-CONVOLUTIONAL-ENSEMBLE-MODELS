{
 "cells": [
  {
   "cell_type": "code",
   "execution_count": 1,
   "id": "e255f20e-4cf8-4a1a-b824-e15a8fd2bcda",
   "metadata": {},
   "outputs": [],
   "source": [
    "# Data Augmentation : Training Dataset\n",
    "from tensorflow.keras.preprocessing.image import ImageDataGenerator, img_to_array, load_img\n",
    "import os\n",
    "\n",
    "# Set up the data generator with desired augmentations\n",
    "datagen = ImageDataGenerator(\n",
    "    rotation_range=40,\n",
    "    width_shift_range=0.2,\n",
    "    height_shift_range=0.2,\n",
    "    shear_range=0.2,\n",
    "    zoom_range=0.2,\n",
    "    horizontal_flip=True,\n",
    "    fill_mode='nearest'\n",
    ")\n",
    "\n",
    "# Paths\n",
    "input_dir = r\"C:\\Users\\hp\\Documents\\Data\\archive\\train\"\n",
    "output_dir = r\"C:\\Users\\hp\\Documents\\Data\\archive\\augmented data\"\n",
    "os.makedirs(output_dir, exist_ok=True)\n",
    "\n",
    "# Parameters\n",
    "augmentations_per_image = 5  # how many augmented images per original\n",
    "\n",
    "# Iterate over all images in the input directory\n",
    "for filename in os.listdir(input_dir):\n",
    "    if not filename.lower().endswith(('.png', '.jpg', '.jpeg')):\n",
    "        continue  # skip non-image files\n",
    "    \n",
    "    # Load and prepare image\n",
    "    img_path = os.path.join(input_dir, filename)\n",
    "    img = load_img(img_path)\n",
    "    x = img_to_array(img)  # Convert to numpy array\n",
    "    x = x.reshape((1,) + x.shape)  # Reshape for generator\n",
    "    \n",
    "    # Generate and save augmented images\n",
    "    i = 0\n",
    "    for batch in datagen.flow(x, batch_size=1,\n",
    "                              save_to_dir=output_dir,\n",
    "                              save_prefix=os.path.splitext(filename)[0],\n",
    "                              save_format='png'):\n",
    "        i += 1\n",
    "        if i >= augmentations_per_image:\n",
    "            break  # stop after creating desired number\n"
   ]
  },
  {
   "cell_type": "code",
   "execution_count": null,
   "id": "56d06eec-844d-48e6-9f7e-151356442b8b",
   "metadata": {},
   "outputs": [],
   "source": []
  }
 ],
 "metadata": {
  "kernelspec": {
   "display_name": "Python [conda env:base] *",
   "language": "python",
   "name": "conda-base-py"
  },
  "language_info": {
   "codemirror_mode": {
    "name": "ipython",
    "version": 3
   },
   "file_extension": ".py",
   "mimetype": "text/x-python",
   "name": "python",
   "nbconvert_exporter": "python",
   "pygments_lexer": "ipython3",
   "version": "3.12.7"
  }
 },
 "nbformat": 4,
 "nbformat_minor": 5
}
